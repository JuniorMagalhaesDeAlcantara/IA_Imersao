{
  "nbformat": 4,
  "nbformat_minor": 0,
  "metadata": {
    "colab": {
      "provenance": [],
      "authorship_tag": "ABX9TyOfrnveiR1TTxKrknklo3ID",
      "include_colab_link": true
    },
    "kernelspec": {
      "name": "python3",
      "display_name": "Python 3"
    },
    "language_info": {
      "name": "python"
    }
  },
  "cells": [
    {
      "cell_type": "markdown",
      "metadata": {
        "id": "view-in-github",
        "colab_type": "text"
      },
      "source": [
        "<a href=\"https://colab.research.google.com/github/JuniorMagalhaesDeAlcantara/IA_Imersao/blob/main/ImersaoIA.ipynb\" target=\"_parent\"><img src=\"https://colab.research.google.com/assets/colab-badge.svg\" alt=\"Open In Colab\"/></a>"
      ]
    },
    {
      "cell_type": "code",
      "execution_count": 39,
      "metadata": {
        "colab": {
          "base_uri": "https://localhost:8080/",
          "height": 208
        },
        "id": "UPaT93TuW3a9",
        "outputId": "dcd24a4c-2e30-4de0-c20d-3f974b37fac5"
      },
      "outputs": [
        {
          "output_type": "stream",
          "name": "stdout",
          "text": [
            "Responda 'sim' ou 'não' para as seguintes perguntas:\n",
            "Você está sentindo febre alta? não\n",
            "Você está sentindo dor de cabeça? não\n",
            "Você está sentindo dores no corpo? não\n",
            "Você está sentindo dor atras dos olhos? não\n",
            "Você está sentindo nausea vomito? não\n",
            "Você está sentindo manchas vermelhas? não\n",
            "\n",
            "Baseado nos seus sintomas, a probabilidade estimada de ser dengue é: 25%\n",
            "\n",
            "Lembre-se: Esta estimativa não substitui um diagnóstico médico. Consulte um profissional de saúde para obter um diagnóstico preciso.\n"
          ]
        }
      ],
      "source": [
        "!pip install -q -U google-generativeai\n",
        "\n",
        "\n",
        "import requests\n",
        "import google.generativeai as genai\n",
        "\n",
        "GOOGLE_API_KEY='Sua APIKey Aqui' # Substitua pela sua chave\n",
        "genai.configure(api_key=GOOGLE_API_KEY)\n",
        "MODEL_NAME = \"models/text-bison-001\"  # Modelo da API do Google\n",
        "\n",
        "def avaliar_sintomas():\n",
        "  \"\"\"\n",
        "  Faz perguntas sobre os sintomas e usa a API do Google para\n",
        "  estimar a probabilidade de dengue.\n",
        "  \"\"\"\n",
        "  sintomas = {\n",
        "      \"febre_alta\": False,\n",
        "      \"dor_de_cabeça\": False,\n",
        "      \"dores_no_corpo\": False,\n",
        "      \"dor_atras_dos_olhos\": False,\n",
        "      \"nausea_vomito\": False,\n",
        "      \"manchas_vermelhas\": False\n",
        "  }\n",
        "\n",
        "  print(\"Responda 'sim' ou 'não' para as seguintes perguntas:\")\n",
        "  for sintoma in sintomas:\n",
        "    resposta = input(f\"Você está sentindo {sintoma.replace('_', ' ')}? \").lower()\n",
        "    if resposta == 'sim':\n",
        "      sintomas[sintoma] = True\n",
        "\n",
        "  sintomas_texto = ', '.join([sintoma for sintoma, presente in sintomas.items() if presente])\n",
        "  prompt = \"Based on these symptoms: {sintomas_texto}, what's the probability of dengue (0-100%)?\"\n",
        "  resposta_api = genai.generate_text(\n",
        "      model=MODEL_NAME,\n",
        "      temperature=0.4, # Ajuste para controlar a criatividade da resposta\n",
        "      prompt=prompt\n",
        "  )\n",
        "\n",
        "  # Verificar se a API retornou um resultado válido\n",
        "  if resposta_api.result is not None:\n",
        "      # Extrair a probabilidade da resposta da API\n",
        "      try:\n",
        "          probabilidade = int(resposta_api.result.strip())\n",
        "      except ValueError:\n",
        "          probabilidade = -1 # Sinaliza erro na interpretação\n",
        "          print(f\"Erro: Não foi possível converter a resposta da API para um número inteiro. Resposta: {resposta_api.result}\")\n",
        "  else:\n",
        "      probabilidade = -1\n",
        "      print(\"Erro: A API não retornou um resultado válido.\")\n",
        "\n",
        "  return probabilidade\n",
        "\n",
        "# Execução da função\n",
        "probabilidade_dengue = avaliar_sintomas()\n",
        "\n",
        "if probabilidade_dengue >= 0:\n",
        "  print(f\"\\nBaseado nos seus sintomas, a probabilidade estimada de ser dengue é: {probabilidade_dengue}%\")\n",
        "else:\n",
        "  print(\"\\nNão foi possível calcular a probabilidade. Por favor, tente novamente.\")\n",
        "\n",
        "# Aviso importante!\n",
        "print(\"\\nLembre-se: Esta estimativa não substitui um diagnóstico médico. Consulte um profissional de saúde para obter um diagnóstico preciso.\")\n"
      ]
    }
  ]
}